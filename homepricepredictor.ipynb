{
 "cells": [
  {
   "cell_type": "code",
   "execution_count": 1,
   "id": "3f508cf9",
   "metadata": {
    "_cell_guid": "b1076dfc-b9ad-4769-8c92-a6c4dae69d19",
    "_uuid": "8f2839f25d086af736a60e9eeb907d3b93b6e0e5",
    "execution": {
     "iopub.execute_input": "2024-11-30T15:11:18.289222Z",
     "iopub.status.busy": "2024-11-30T15:11:18.288802Z",
     "iopub.status.idle": "2024-11-30T15:11:21.180690Z",
     "shell.execute_reply": "2024-11-30T15:11:21.179348Z"
    },
    "papermill": {
     "duration": 2.898919,
     "end_time": "2024-11-30T15:11:21.183099",
     "exception": false,
     "start_time": "2024-11-30T15:11:18.284180",
     "status": "completed"
    },
    "tags": []
   },
   "outputs": [
    {
     "data": {
      "text/html": [
       "<div>\n",
       "<style scoped>\n",
       "    .dataframe tbody tr th:only-of-type {\n",
       "        vertical-align: middle;\n",
       "    }\n",
       "\n",
       "    .dataframe tbody tr th {\n",
       "        vertical-align: top;\n",
       "    }\n",
       "\n",
       "    .dataframe thead th {\n",
       "        text-align: right;\n",
       "    }\n",
       "</style>\n",
       "<table border=\"1\" class=\"dataframe\">\n",
       "  <thead>\n",
       "    <tr style=\"text-align: right;\">\n",
       "      <th></th>\n",
       "      <th>date</th>\n",
       "      <th>price</th>\n",
       "      <th>bedrooms</th>\n",
       "      <th>bathrooms</th>\n",
       "      <th>sqft_living</th>\n",
       "      <th>sqft_lot</th>\n",
       "      <th>floors</th>\n",
       "      <th>waterfront</th>\n",
       "      <th>view</th>\n",
       "      <th>condition</th>\n",
       "      <th>sqft_above</th>\n",
       "      <th>sqft_basement</th>\n",
       "      <th>yr_built</th>\n",
       "      <th>yr_renovated</th>\n",
       "      <th>street</th>\n",
       "      <th>city</th>\n",
       "      <th>statezip</th>\n",
       "      <th>country</th>\n",
       "    </tr>\n",
       "  </thead>\n",
       "  <tbody>\n",
       "    <tr>\n",
       "      <th>0</th>\n",
       "      <td>2014-05-02 00:00:00</td>\n",
       "      <td>313000.0</td>\n",
       "      <td>3.0</td>\n",
       "      <td>1.50</td>\n",
       "      <td>1340</td>\n",
       "      <td>7912</td>\n",
       "      <td>1.5</td>\n",
       "      <td>0</td>\n",
       "      <td>0</td>\n",
       "      <td>3</td>\n",
       "      <td>1340</td>\n",
       "      <td>0</td>\n",
       "      <td>1955</td>\n",
       "      <td>2005</td>\n",
       "      <td>18810 Densmore Ave N</td>\n",
       "      <td>Shoreline</td>\n",
       "      <td>WA 98133</td>\n",
       "      <td>USA</td>\n",
       "    </tr>\n",
       "    <tr>\n",
       "      <th>1</th>\n",
       "      <td>2014-05-02 00:00:00</td>\n",
       "      <td>2384000.0</td>\n",
       "      <td>5.0</td>\n",
       "      <td>2.50</td>\n",
       "      <td>3650</td>\n",
       "      <td>9050</td>\n",
       "      <td>2.0</td>\n",
       "      <td>0</td>\n",
       "      <td>4</td>\n",
       "      <td>5</td>\n",
       "      <td>3370</td>\n",
       "      <td>280</td>\n",
       "      <td>1921</td>\n",
       "      <td>0</td>\n",
       "      <td>709 W Blaine St</td>\n",
       "      <td>Seattle</td>\n",
       "      <td>WA 98119</td>\n",
       "      <td>USA</td>\n",
       "    </tr>\n",
       "    <tr>\n",
       "      <th>2</th>\n",
       "      <td>2014-05-02 00:00:00</td>\n",
       "      <td>342000.0</td>\n",
       "      <td>3.0</td>\n",
       "      <td>2.00</td>\n",
       "      <td>1930</td>\n",
       "      <td>11947</td>\n",
       "      <td>1.0</td>\n",
       "      <td>0</td>\n",
       "      <td>0</td>\n",
       "      <td>4</td>\n",
       "      <td>1930</td>\n",
       "      <td>0</td>\n",
       "      <td>1966</td>\n",
       "      <td>0</td>\n",
       "      <td>26206-26214 143rd Ave SE</td>\n",
       "      <td>Kent</td>\n",
       "      <td>WA 98042</td>\n",
       "      <td>USA</td>\n",
       "    </tr>\n",
       "    <tr>\n",
       "      <th>3</th>\n",
       "      <td>2014-05-02 00:00:00</td>\n",
       "      <td>420000.0</td>\n",
       "      <td>3.0</td>\n",
       "      <td>2.25</td>\n",
       "      <td>2000</td>\n",
       "      <td>8030</td>\n",
       "      <td>1.0</td>\n",
       "      <td>0</td>\n",
       "      <td>0</td>\n",
       "      <td>4</td>\n",
       "      <td>1000</td>\n",
       "      <td>1000</td>\n",
       "      <td>1963</td>\n",
       "      <td>0</td>\n",
       "      <td>857 170th Pl NE</td>\n",
       "      <td>Bellevue</td>\n",
       "      <td>WA 98008</td>\n",
       "      <td>USA</td>\n",
       "    </tr>\n",
       "    <tr>\n",
       "      <th>4</th>\n",
       "      <td>2014-05-02 00:00:00</td>\n",
       "      <td>550000.0</td>\n",
       "      <td>4.0</td>\n",
       "      <td>2.50</td>\n",
       "      <td>1940</td>\n",
       "      <td>10500</td>\n",
       "      <td>1.0</td>\n",
       "      <td>0</td>\n",
       "      <td>0</td>\n",
       "      <td>4</td>\n",
       "      <td>1140</td>\n",
       "      <td>800</td>\n",
       "      <td>1976</td>\n",
       "      <td>1992</td>\n",
       "      <td>9105 170th Ave NE</td>\n",
       "      <td>Redmond</td>\n",
       "      <td>WA 98052</td>\n",
       "      <td>USA</td>\n",
       "    </tr>\n",
       "  </tbody>\n",
       "</table>\n",
       "</div>"
      ],
      "text/plain": [
       "                  date      price  bedrooms  bathrooms  sqft_living  sqft_lot  \\\n",
       "0  2014-05-02 00:00:00   313000.0       3.0       1.50         1340      7912   \n",
       "1  2014-05-02 00:00:00  2384000.0       5.0       2.50         3650      9050   \n",
       "2  2014-05-02 00:00:00   342000.0       3.0       2.00         1930     11947   \n",
       "3  2014-05-02 00:00:00   420000.0       3.0       2.25         2000      8030   \n",
       "4  2014-05-02 00:00:00   550000.0       4.0       2.50         1940     10500   \n",
       "\n",
       "   floors  waterfront  view  condition  sqft_above  sqft_basement  yr_built  \\\n",
       "0     1.5           0     0          3        1340              0      1955   \n",
       "1     2.0           0     4          5        3370            280      1921   \n",
       "2     1.0           0     0          4        1930              0      1966   \n",
       "3     1.0           0     0          4        1000           1000      1963   \n",
       "4     1.0           0     0          4        1140            800      1976   \n",
       "\n",
       "   yr_renovated                    street       city  statezip country  \n",
       "0          2005      18810 Densmore Ave N  Shoreline  WA 98133     USA  \n",
       "1             0           709 W Blaine St    Seattle  WA 98119     USA  \n",
       "2             0  26206-26214 143rd Ave SE       Kent  WA 98042     USA  \n",
       "3             0           857 170th Pl NE   Bellevue  WA 98008     USA  \n",
       "4          1992         9105 170th Ave NE    Redmond  WA 98052     USA  "
      ]
     },
     "execution_count": 1,
     "metadata": {},
     "output_type": "execute_result"
    }
   ],
   "source": [
    "#Data\n",
    "import pandas as pd\n",
    "import numpy as np\n",
    "from sklearn import metrics\n",
    "import numpy as np\n",
    "import pandas as pd\n",
    "import matplotlib.pyplot as plt\n",
    "import seaborn as sns\n",
    "import sklearn.datasets\n",
    "from sklearn.model_selection import train_test_split\n",
    "from xgboost import XGBRegressor\n",
    "from sklearn import metrics\n",
    "\n",
    "df = pd.read_csv(\"/kaggle/input/dataset112/data.csv\")\n",
    "df.head()"
   ]
  },
  {
   "cell_type": "code",
   "execution_count": 2,
   "id": "823c2732",
   "metadata": {
    "execution": {
     "iopub.execute_input": "2024-11-30T15:11:21.191358Z",
     "iopub.status.busy": "2024-11-30T15:11:21.191025Z",
     "iopub.status.idle": "2024-11-30T15:11:21.209104Z",
     "shell.execute_reply": "2024-11-30T15:11:21.207961Z"
    },
    "papermill": {
     "duration": 0.024803,
     "end_time": "2024-11-30T15:11:21.211457",
     "exception": false,
     "start_time": "2024-11-30T15:11:21.186654",
     "status": "completed"
    },
    "tags": []
   },
   "outputs": [],
   "source": [
    "#Preprocessing Data\n",
    "df.dropna(inplace = True)\n",
    "df.drop(columns =['statezip'], inplace = True)\n",
    "df.drop(columns =['country'], inplace = True)\n",
    "df.drop(columns =['date'], inplace = True)\n"
   ]
  },
  {
   "cell_type": "code",
   "execution_count": 3,
   "id": "9ad4a7fa",
   "metadata": {
    "execution": {
     "iopub.execute_input": "2024-11-30T15:11:21.219267Z",
     "iopub.status.busy": "2024-11-30T15:11:21.218886Z",
     "iopub.status.idle": "2024-11-30T15:11:21.239172Z",
     "shell.execute_reply": "2024-11-30T15:11:21.237973Z"
    },
    "papermill": {
     "duration": 0.027213,
     "end_time": "2024-11-30T15:11:21.241890",
     "exception": false,
     "start_time": "2024-11-30T15:11:21.214677",
     "status": "completed"
    },
    "tags": []
   },
   "outputs": [
    {
     "name": "stdout",
     "output_type": "stream",
     "text": [
      "     price  bedrooms  bathrooms  sqft_living  sqft_lot  floors  waterfront  \\\n",
      "0   313000         3          1         1340      7912       1           0   \n",
      "1  2384000         5          2         3650      9050       2           0   \n",
      "2   342000         3          2         1930     11947       1           0   \n",
      "3   420000         3          2         2000      8030       1           0   \n",
      "4   550000         4          2         1940     10500       1           0   \n",
      "\n",
      "   view  condition  sqft_above  ...  city_SeaTac  city_Seattle  \\\n",
      "0     0          3        1340  ...            0             0   \n",
      "1     4          5        3370  ...            0             1   \n",
      "2     0          4        1930  ...            0             0   \n",
      "3     0          4        1000  ...            0             0   \n",
      "4     0          4        1140  ...            0             0   \n",
      "\n",
      "   city_Shoreline  city_Skykomish  city_Snoqualmie  city_Snoqualmie Pass  \\\n",
      "0               1               0                0                     0   \n",
      "1               0               0                0                     0   \n",
      "2               0               0                0                     0   \n",
      "3               0               0                0                     0   \n",
      "4               0               0                0                     0   \n",
      "\n",
      "   city_Tukwila  city_Vashon  city_Woodinville  city_Yarrow Point  \n",
      "0             0            0                 0                  0  \n",
      "1             0            0                 0                  0  \n",
      "2             0            0                 0                  0  \n",
      "3             0            0                 0                  0  \n",
      "4             0            0                 0                  0  \n",
      "\n",
      "[5 rows x 56 columns]\n"
     ]
    }
   ],
   "source": [
    "## Bỏ đi cột street và xử lí cột city\n",
    "df = df.drop(columns=['street'])\n",
    "df = pd.get_dummies(df, columns=['city'], drop_first=True)\n",
    "df = df.astype(int)  # Chuyển đổi toàn bộ DataFrame về kiểu int\n",
    "print(df.head())\n"
   ]
  },
  {
   "cell_type": "code",
   "execution_count": 4,
   "id": "ba4a4f59",
   "metadata": {
    "execution": {
     "iopub.execute_input": "2024-11-30T15:11:21.250079Z",
     "iopub.status.busy": "2024-11-30T15:11:21.249653Z",
     "iopub.status.idle": "2024-11-30T15:11:21.536277Z",
     "shell.execute_reply": "2024-11-30T15:11:21.534549Z"
    },
    "papermill": {
     "duration": 0.293319,
     "end_time": "2024-11-30T15:11:21.538517",
     "exception": true,
     "start_time": "2024-11-30T15:11:21.245198",
     "status": "failed"
    },
    "tags": []
   },
   "outputs": [
    {
     "ename": "NameError",
     "evalue": "name 'model' is not defined",
     "output_type": "error",
     "traceback": [
      "\u001b[0;31m---------------------------------------------------------------------------\u001b[0m",
      "\u001b[0;31mNameError\u001b[0m                                 Traceback (most recent call last)",
      "Cell \u001b[0;32mIn[4], line 2\u001b[0m\n\u001b[1;32m      1\u001b[0m \u001b[38;5;66;03m# Kiểm tra tầm quan trọng của các đặc trưng\u001b[39;00m\n\u001b[0;32m----> 2\u001b[0m importances \u001b[38;5;241m=\u001b[39m \u001b[43mmodel\u001b[49m\u001b[38;5;241m.\u001b[39mfeature_importances_\n\u001b[1;32m      4\u001b[0m \u001b[38;5;66;03m# Tạo DataFrame để trực quan\u001b[39;00m\n\u001b[1;32m      5\u001b[0m feature_importance_df \u001b[38;5;241m=\u001b[39m pd\u001b[38;5;241m.\u001b[39mDataFrame({\n\u001b[1;32m      6\u001b[0m     \u001b[38;5;124m'\u001b[39m\u001b[38;5;124mFeature\u001b[39m\u001b[38;5;124m'\u001b[39m: X_train\u001b[38;5;241m.\u001b[39mcolumns,\n\u001b[1;32m      7\u001b[0m     \u001b[38;5;124m'\u001b[39m\u001b[38;5;124mImportance\u001b[39m\u001b[38;5;124m'\u001b[39m: importances\n\u001b[1;32m      8\u001b[0m })\u001b[38;5;241m.\u001b[39msort_values(by\u001b[38;5;241m=\u001b[39m\u001b[38;5;124m'\u001b[39m\u001b[38;5;124mImportance\u001b[39m\u001b[38;5;124m'\u001b[39m, ascending\u001b[38;5;241m=\u001b[39m\u001b[38;5;28;01mFalse\u001b[39;00m)\n",
      "\u001b[0;31mNameError\u001b[0m: name 'model' is not defined"
     ]
    }
   ],
   "source": [
    "# Kiểm tra tầm quan trọng của các đặc trưng\n",
    "importances = model.feature_importances_\n",
    "\n",
    "# Tạo DataFrame để trực quan\n",
    "feature_importance_df = pd.DataFrame({\n",
    "    'Feature': X_train.columns,\n",
    "    'Importance': importances\n",
    "}).sort_values(by='Importance', ascending=False)\n",
    "\n",
    "print(feature_importance_df)\n"
   ]
  },
  {
   "cell_type": "code",
   "execution_count": null,
   "id": "ecd9bce1",
   "metadata": {
    "execution": {
     "iopub.execute_input": "2024-11-30T15:05:31.038068Z",
     "iopub.status.busy": "2024-11-30T15:05:31.037732Z",
     "iopub.status.idle": "2024-11-30T15:05:31.070084Z",
     "shell.execute_reply": "2024-11-30T15:05:31.069058Z",
     "shell.execute_reply.started": "2024-11-30T15:05:31.038037Z"
    },
    "papermill": {
     "duration": null,
     "end_time": null,
     "exception": null,
     "start_time": null,
     "status": "pending"
    },
    "tags": []
   },
   "outputs": [],
   "source": [
    "# Gộp các thành phố ít quan trọng thành nhóm 'Others'\n",
    "low_importance_cities = feature_importance_df[feature_importance_df['Importance'] < 0.002]['Feature'].tolist()\n",
    "\n",
    "# Kiểm tra nếu các cột này có trong df\n",
    "low_importance_cities = [col for col in low_importance_cities if col in df.columns]\n",
    "\n",
    "# Tạo cột city_Others\n",
    "df['city_Others'] = df[low_importance_cities].sum(axis=1)\n",
    "\n",
    "# Loại bỏ các cột ít quan trọng\n",
    "df.drop(columns=low_importance_cities, inplace=True)\n",
    "\n",
    "# Loại bỏ thêm các đặc trưng không quan trọng\n",
    "df.drop(['bedrooms', 'bathrooms', 'yr_renovated'], axis=1, inplace=True, errors='ignore')\n",
    "df"
   ]
  },
  {
   "cell_type": "code",
   "execution_count": null,
   "id": "640eb4ca",
   "metadata": {
    "execution": {
     "iopub.execute_input": "2024-11-30T15:05:31.071937Z",
     "iopub.status.busy": "2024-11-30T15:05:31.071467Z",
     "iopub.status.idle": "2024-11-30T15:05:31.082737Z",
     "shell.execute_reply": "2024-11-30T15:05:31.081474Z",
     "shell.execute_reply.started": "2024-11-30T15:05:31.071888Z"
    },
    "papermill": {
     "duration": null,
     "end_time": null,
     "exception": null,
     "start_time": null,
     "status": "pending"
    },
    "tags": []
   },
   "outputs": [],
   "source": [
    "#Train model (XGB)\n",
    "from sklearn.model_selection import train_test_split\n",
    "from xgboost import XGBRegressor\n",
    "from sklearn import metrics\n",
    "\n",
    "# Giả sử df là dataset đã được tiền xử lý\n",
    "X = df.drop('price', axis=1)  # Loại bỏ cột price (target)\n",
    "y = df['price']  # Cột price là target variable\n",
    "\n",
    "# Chia dữ liệu thành tập huấn luyện và kiểm tra\n",
    "X_train, X_test, y_train, y_test = train_test_split(X, y, test_size=0.2, random_state=42)"
   ]
  },
  {
   "cell_type": "code",
   "execution_count": null,
   "id": "e706cbfb",
   "metadata": {
    "execution": {
     "iopub.execute_input": "2024-11-30T15:05:31.084494Z",
     "iopub.status.busy": "2024-11-30T15:05:31.084176Z",
     "iopub.status.idle": "2024-11-30T15:05:31.252578Z",
     "shell.execute_reply": "2024-11-30T15:05:31.251455Z",
     "shell.execute_reply.started": "2024-11-30T15:05:31.084460Z"
    },
    "papermill": {
     "duration": null,
     "end_time": null,
     "exception": null,
     "start_time": null,
     "status": "pending"
    },
    "tags": []
   },
   "outputs": [],
   "source": [
    "# Khởi tạo mô hình XGBoost\n",
    "model = XGBRegressor()\n",
    "\n",
    "# Huấn luyện mô hình\n",
    "model.fit(X_train, y_train)"
   ]
  },
  {
   "cell_type": "code",
   "execution_count": null,
   "id": "196b0e09",
   "metadata": {
    "execution": {
     "iopub.execute_input": "2024-11-30T15:05:31.254133Z",
     "iopub.status.busy": "2024-11-30T15:05:31.253798Z",
     "iopub.status.idle": "2024-11-30T15:05:31.269258Z",
     "shell.execute_reply": "2024-11-30T15:05:31.268502Z",
     "shell.execute_reply.started": "2024-11-30T15:05:31.254102Z"
    },
    "papermill": {
     "duration": null,
     "end_time": null,
     "exception": null,
     "start_time": null,
     "status": "pending"
    },
    "tags": []
   },
   "outputs": [],
   "source": [
    "training_data_prediction = model.predict(X_train)"
   ]
  },
  {
   "cell_type": "code",
   "execution_count": null,
   "id": "7b4eea90",
   "metadata": {
    "execution": {
     "iopub.execute_input": "2024-11-30T15:05:58.875207Z",
     "iopub.status.busy": "2024-11-30T15:05:58.874835Z",
     "iopub.status.idle": "2024-11-30T15:05:58.880989Z",
     "shell.execute_reply": "2024-11-30T15:05:58.879645Z",
     "shell.execute_reply.started": "2024-11-30T15:05:58.875175Z"
    },
    "papermill": {
     "duration": null,
     "end_time": null,
     "exception": null,
     "start_time": null,
     "status": "pending"
    },
    "tags": []
   },
   "outputs": [],
   "source": [
    "print(training_data_prediction)"
   ]
  },
  {
   "cell_type": "code",
   "execution_count": null,
   "id": "d7ee32a8",
   "metadata": {
    "execution": {
     "iopub.execute_input": "2024-11-30T15:05:31.270449Z",
     "iopub.status.busy": "2024-11-30T15:05:31.270166Z",
     "iopub.status.idle": "2024-11-30T15:05:31.284839Z",
     "shell.execute_reply": "2024-11-30T15:05:31.283663Z",
     "shell.execute_reply.started": "2024-11-30T15:05:31.270419Z"
    },
    "papermill": {
     "duration": null,
     "end_time": null,
     "exception": null,
     "start_time": null,
     "status": "pending"
    },
    "tags": []
   },
   "outputs": [],
   "source": [
    "# R Squared Error\n",
    "score_1 = metrics.r2_score(y_train, training_data_prediction)\n",
    "\n",
    "# Mean Absolute Error\n",
    "score_2 = metrics.mean_absolute_error(y_train, training_data_prediction)\n",
    "\n",
    "print('R Sqaured Error:', score_1)\n",
    "print('Mean Absolute Error:', score_2)"
   ]
  },
  {
   "cell_type": "code",
   "execution_count": null,
   "id": "2fb4eddf",
   "metadata": {
    "execution": {
     "iopub.execute_input": "2024-11-30T15:05:31.286479Z",
     "iopub.status.busy": "2024-11-30T15:05:31.286174Z",
     "iopub.status.idle": "2024-11-30T15:05:31.500790Z",
     "shell.execute_reply": "2024-11-30T15:05:31.499621Z",
     "shell.execute_reply.started": "2024-11-30T15:05:31.286447Z"
    },
    "papermill": {
     "duration": null,
     "end_time": null,
     "exception": null,
     "start_time": null,
     "status": "pending"
    },
    "tags": []
   },
   "outputs": [],
   "source": [
    "\n",
    "plt.scatter(Y_train, training_data_prediction)\n",
    "plt.xlabel(\"Actual Price\")\n",
    "plt.ylabel(\"Predicted Price\")\n",
    "plt.title(\"Actual Price vs Predicted Price\")\n",
    "plt.show()"
   ]
  },
  {
   "cell_type": "code",
   "execution_count": null,
   "id": "e46cd56f",
   "metadata": {
    "execution": {
     "iopub.execute_input": "2024-11-30T15:05:31.502672Z",
     "iopub.status.busy": "2024-11-30T15:05:31.502218Z",
     "iopub.status.idle": "2024-11-30T15:05:31.508836Z",
     "shell.execute_reply": "2024-11-30T15:05:31.507631Z",
     "shell.execute_reply.started": "2024-11-30T15:05:31.502623Z"
    },
    "papermill": {
     "duration": null,
     "end_time": null,
     "exception": null,
     "start_time": null,
     "status": "pending"
    },
    "tags": []
   },
   "outputs": [],
   "source": [
    "# Tính Accuracy (độ chính xác)\n",
    "average_price = y_test.mean()\n",
    "accuracy = (1 - (mae / average_price)) * 100\n",
    "print(f'Accuracy of the model: {accuracy:.2f}%')\n"
   ]
  }
 ],
 "metadata": {
  "kaggle": {
   "accelerator": "none",
   "dataSources": [
    {
     "datasetId": 6032743,
     "sourceId": 9835118,
     "sourceType": "datasetVersion"
    }
   ],
   "dockerImageVersionId": 30786,
   "isGpuEnabled": false,
   "isInternetEnabled": false,
   "language": "python",
   "sourceType": "notebook"
  },
  "kernelspec": {
   "display_name": "Python 3",
   "language": "python",
   "name": "python3"
  },
  "language_info": {
   "codemirror_mode": {
    "name": "ipython",
    "version": 3
   },
   "file_extension": ".py",
   "mimetype": "text/x-python",
   "name": "python",
   "nbconvert_exporter": "python",
   "pygments_lexer": "ipython3",
   "version": "3.10.14"
  },
  "papermill": {
   "default_parameters": {},
   "duration": 6.329931,
   "end_time": "2024-11-30T15:11:22.162690",
   "environment_variables": {},
   "exception": true,
   "input_path": "__notebook__.ipynb",
   "output_path": "__notebook__.ipynb",
   "parameters": {},
   "start_time": "2024-11-30T15:11:15.832759",
   "version": "2.6.0"
  }
 },
 "nbformat": 4,
 "nbformat_minor": 5
}
